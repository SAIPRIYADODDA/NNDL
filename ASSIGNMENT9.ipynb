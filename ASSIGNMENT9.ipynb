{
  "nbformat": 4,
  "nbformat_minor": 0,
  "metadata": {
    "colab": {
      "name": "ASSIGNMENT9.ipynb",
      "provenance": [],
      "authorship_tag": "ABX9TyMm7MsIPxAewTVcjbKf9gX5",
      "include_colab_link": true
    },
    "kernelspec": {
      "name": "python3",
      "display_name": "Python 3"
    },
    "language_info": {
      "name": "python"
    }
  },
  "cells": [
    {
      "cell_type": "markdown",
      "metadata": {
        "id": "view-in-github",
        "colab_type": "text"
      },
      "source": [
        "<a href=\"https://colab.research.google.com/github/SAIPRIYADODDA/NNDL/blob/main/ASSIGNMENT9.ipynb\" target=\"_parent\"><img src=\"https://colab.research.google.com/assets/colab-badge.svg\" alt=\"Open In Colab\"/></a>"
      ]
    },
    {
      "cell_type": "markdown",
      "metadata": {
        "id": "YchOuV8bGIQC"
      },
      "source": [
        "MOMENTUM OPTIMIZER"
      ]
    },
    {
      "cell_type": "code",
      "metadata": {
        "colab": {
          "base_uri": "https://localhost:8080/"
        },
        "id": "TzJI7Ls8GPs2",
        "outputId": "a695e5df-0990-4356-f904-43f341fcf0ea"
      },
      "source": [
        "from sympy import Symbol, Derivative, symbols\n",
        "m= Symbol('m')\n",
        "c= Symbol('c')\n",
        "function = '0.5*(y-m*x-c)**2'\n",
        "partialderiv= Derivative(function, m)\n",
        "dfm = partialderiv.doit()\n",
        "partialderiv= Derivative(function, c)\n",
        "dfc = partialderiv.doit()\n",
        "x_val = [0.2,0.4,0.6,0.8]\n",
        "y_val = [3.4,3.8,4.2,4.6]\n",
        "\n",
        "print(f'first order derivatives of given function are de/dm = {dfm} ,de/dc = {dfc}')\n",
        "\n",
        "#step 1 initialise values \n",
        "m1 = 1.0 \n",
        "c1 = -1.0  #variable x, y\n",
        "epoches = 100  \n",
        "gama = 0.9\n",
        "vm = vc =0\n",
        "learning_rate = 0.1  #learning rate\n",
        "for i in range(0,epoches):\n",
        "    for j in range(0,len(x_val)):\n",
        "        #step 2 substitute x ,y in first order derivatives df/dx, df/dy\n",
        "        m = symbols('m')\n",
        "        c = symbols('c')\n",
        "        x = symbols('x')\n",
        "        y = symbols('y')\n",
        "        dfmv = dfm.subs(m, m1) \n",
        "        dfmv = dfmv.subs(c, c1) \n",
        "        dfmv = dfmv.subs(x, x_val[j]) \n",
        "        dfmv = dfmv.subs(y, y_val[j]) \n",
        "        dfmv = round(dfmv,2)\n",
        "        dfcv = dfc.subs(c, c1) \n",
        "        dfcv = dfcv.subs(m, m1) \n",
        "        dfcv = dfcv.subs(x, x_val[j]) \n",
        "        dfcv = dfcv.subs(y, y_val[j]) \n",
        "        dfcv = round(dfcv,2)\n",
        "        #step3 find change in x , y\n",
        "        vm = (gama * vm)-(learning_rate*dfmv)\n",
        "        vc = (gama * vc)-(learning_rate*dfcv)\n",
        "        #step4 update variable \n",
        "        m1 = m1 + vm\n",
        "        m1 = round(m1, 3) \n",
        "        c1 = c1 + vc\n",
        "        c1 = round(c1, 3)\n",
        "        #step5 increment iterations \n",
        "        #step6 break loop if iterations exceed no of epoches\n",
        "#step7 print variable x1, y1\n",
        "print(m1, c1)\n",
        "print(f'minimum value obtained at m = {m1} ,c ={c1} for given function')\n"
      ],
      "execution_count": 6,
      "outputs": [
        {
          "output_type": "stream",
          "text": [
            "first order derivatives of given function are de/dm = -1.0*x*(-c - m*x + y) ,de/dc = 1.0*c + 1.0*m*x - 1.0*y\n",
            "1.999 2.998\n",
            "minimum value obtained at m = 1.999 ,c =2.998 for given function\n"
          ],
          "name": "stdout"
        }
      ]
    },
    {
      "cell_type": "code",
      "metadata": {
        "colab": {
          "base_uri": "https://localhost:8080/",
          "height": 295
        },
        "id": "busDMVRhG3vS",
        "outputId": "ac518e82-6d90-4142-fc3a-c2e9bc3dc202"
      },
      "source": [
        "import matplotlib.pyplot as plt\n",
        "import numpy as np\n",
        "x = np.linspace(-5,5,100)\n",
        "y = m1*x+c1\n",
        "plt.plot(x, y, '-r', label='y='+str(m1)+'x+'+str(c1))\n",
        "plt.title('Graph of '+'y='+str(m1)+'x+'+str(c1))\n",
        "plt.xlabel('x', color='red')\n",
        "plt.ylabel('y', color='red')\n",
        "plt.legend(loc='upper left')\n",
        "plt.show()"
      ],
      "execution_count": 5,
      "outputs": [
        {
          "output_type": "display_data",
          "data": {
            "image/png": "[encoded data removed]",
            "text/plain": [
              "<Figure size 432x288 with 1 Axes>"
            ]
          },
          "metadata": {
            "tags": [],
            "needs_background": "light"
          }
        }
      ]
    }
  ]
}