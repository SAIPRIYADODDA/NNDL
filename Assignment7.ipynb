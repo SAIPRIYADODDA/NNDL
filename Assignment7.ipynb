{
  "nbformat": 4,
  "nbformat_minor": 0,
  "metadata": {
    "colab": {
      "name": "Assignment7.ipynb",
      "provenance": [],
      "authorship_tag": "ABX9TyPg+c3ZJrKtn7b+M34MGg5f",
      "include_colab_link": true
    },
    "kernelspec": {
      "name": "python3",
      "display_name": "Python 3"
    },
    "language_info": {
      "name": "python"
    }
  },
  "cells": [
    {
      "cell_type": "markdown",
      "metadata": {
        "id": "view-in-github",
        "colab_type": "text"
      },
      "source": [
        "<a href=\"https://colab.research.google.com/github/SAIPRIYADODDA/NNDL/blob/main/Assignment7.ipynb\" target=\"_parent\"><img src=\"https://colab.research.google.com/assets/colab-badge.svg\" alt=\"Open In Colab\"/></a>"
      ]
    },
    {
      "cell_type": "code",
      "metadata": {
        "colab": {
          "base_uri": "https://localhost:8080/"
        },
        "id": "-SWau8-8PVdb",
        "outputId": "3291b838-fd1f-40f9-e50e-e6baa8d41c80"
      },
      "source": [
        "#BATCH GRADIENT DESCENT OPTIMIZER ALGORITHM IMPLEMENTATION \n",
        "\n",
        "from sympy import Symbol, Derivative, symbols\n",
        "m= Symbol('m')\n",
        "c= Symbol('c')\n",
        "function = '0.5*(y-m*x-c)**2'\n",
        "partialderiv= Derivative(function, m)\n",
        "dfm = partialderiv.doit()\n",
        "partialderiv= Derivative(function, c)\n",
        "dfc = partialderiv.doit()\n",
        "x_val = [0.2,0.4,0.6,0.8]\n",
        "y_val = [2.4,3.8,4.2,4.6]\n",
        "\n",
        "print(f'first order derivatives of given function are de/dm = {dfm} ,de/dc = {dfc}')\n",
        "\n",
        "#step 1 initialise all varaiables with values  \n",
        "m1 = -1.0 \n",
        "c1 = 1.0  #variable x, y\n",
        "epoches = 100  \n",
        "learning_rate = 0.1  #learning rate\n",
        "for i in range(0,epoches):\n",
        "    dfmv1 = 0\n",
        "    dfcv1 = 0\n",
        "    for j in range(0,len(x_val)):\n",
        "        #step 2 substitute x ,y in first order derivatives df/dx, df/dy\n",
        "        m = symbols('m')\n",
        "        c = symbols('c')\n",
        "        x = symbols('x')\n",
        "        y = symbols('y')\n",
        "        dfmv = dfm.subs(m, m1) \n",
        "        dfmv = dfmv.subs(c, c1) \n",
        "        dfmv = dfmv.subs(x, x_val[j]) \n",
        "        dfmv = dfmv.subs(y, y_val[j]) \n",
        "        dfmv = round(dfmv,2)\n",
        "        dfcv = dfc.subs(c, c1) \n",
        "        dfcv = dfcv.subs(m, m1) \n",
        "        dfcv = dfcv.subs(x, x_val[j]) \n",
        "        dfcv = dfcv.subs(y, y_val[j]) \n",
        "        dfcv = round(dfcv,2)\n",
        "        dfmv1 += dfmv\n",
        "        dfcv1 += dfcv\n",
        "    dfmv1 = dfmv1/len(x_val)\n",
        "    dfcv1 = dfcv1/len(x_val)\n",
        "    dfmv1=dfmv1.round(2)\n",
        "    dfcv1=dfcv1.round(2)\n",
        "    #step3 find change in x , y\n",
        "    dm = (-1.0)*learning_rate*dfmv1\n",
        "    dc = (-1.0)*learning_rate*dfcv1\n",
        "    #step4 update variable \n",
        "    m1 = m1 + dm\n",
        "    m1 = round(m1, 2) \n",
        "    c1 = c1 + dc\n",
        "    c1 = round(c1, 2)\n",
        "    #step5 increment iterations \n",
        "    #step6 break loop if iterations exceed no of epoches\n",
        "#step7 print variable x1, y1\n",
        "print(m1, c1)\n",
        "print(f'minimum value obtained at m = {m1} ,c ={c1} for given function')"
      ],
      "execution_count": 9,
      "outputs": [
        {
          "output_type": "stream",
          "text": [
            "first order derivatives of given function are de/dm = -1.0*x*(-c - m*x + y) ,de/dc = 1.0*c + 1.0*m*x - 1.0*y\n",
            "1.41 3.10\n",
            "minimum value obtained at m = 1.41 ,c =3.10 for given function\n"
          ],
          "name": "stdout"
        }
      ]
    },
    {
      "cell_type": "code",
      "metadata": {
        "colab": {
          "base_uri": "https://localhost:8080/"
        },
        "id": "BfzTBHoeiPCp",
        "outputId": "8ad7e0d9-311d-4fed-ad6e-3ee224c76fd5"
      },
      "source": [
        "data_pred = []\n",
        "for i in x_val:\n",
        "    data_pred.append(m1*i+c1)\n",
        "\n",
        "from sklearn.metrics import mean_squared_error\n",
        "mse = mean_squared_error(y_val,data_pred)\n",
        "mse=mse.round(3)\n",
        "print(f\"mean square error : {mse}\")"
      ],
      "execution_count": 10,
      "outputs": [
        {
          "output_type": "stream",
          "text": [
            "mean square error : 0.296\n"
          ],
          "name": "stdout"
        }
      ]
    }
  ]
}