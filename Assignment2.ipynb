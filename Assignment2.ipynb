{
  "nbformat": 4,
  "nbformat_minor": 0,
  "metadata": {
    "colab": {
      "name": "Assignment2.ipynb",
      "provenance": [],
      "authorship_tag": "ABX9TyPO9lbaTe3unCKxCbTbSBSB",
      "include_colab_link": true
    },
    "kernelspec": {
      "name": "python3",
      "display_name": "Python 3"
    },
    "language_info": {
      "name": "python"
    }
  },
  "cells": [
    {
      "cell_type": "markdown",
      "metadata": {
        "id": "view-in-github",
        "colab_type": "text"
      },
      "source": [
        "<a href=\"https://colab.research.google.com/github/SAIPRIYADODDA/NNDL/blob/main/Assignment2.ipynb\" target=\"_parent\"><img src=\"https://colab.research.google.com/assets/colab-badge.svg\" alt=\"Open In Colab\"/></a>"
      ]
    },
    {
      "cell_type": "code",
      "metadata": {
        "colab": {
          "base_uri": "https://localhost:8080/"
        },
        "id": "D5XP03Rk44aW",
        "outputId": "a85f22c8-c8f5-4c94-d080-64edd8b1ab32"
      },
      "source": [
        "from sympy import *  #library for symbolic mathematics\n",
        "import random\n",
        "\n",
        "#step1 (initialize variables)\n",
        "x0 = random.randint(-9,9) \n",
        "y0 = random.randint(-9,9)\n",
        "epoches = 100\n",
        "learningrate = 0.1\n",
        "print(x0,y0)\n",
        "\n",
        "#step2 (1st derivative of the function)\n",
        "x=Symbol('x')\n",
        "y=Symbol('y')\n",
        "f=x**2+y**2+10\n",
        "fx=f.diff(x)\n",
        "fy=f.diff(y)\n",
        "\n",
        "#calculate value of 1st derivative at x0 & y0\n",
        "for i in range(0,epoches):   # --> step5 (increments the iter i value)\n",
        "  dfx=fx.subs(x,x0)\n",
        "  dfy=fy.subs(y,y0)\n",
        "  dfx=round(dfx,2)\n",
        "  dfy=round(dfy,2)\n",
        "\n",
        "  #step3 (change in x,y values)\n",
        "  cx=-1*(learningrate)*dfx\n",
        "  cy=-1*(learningrate)*dfy\n",
        "  cx=round(cx,2)\n",
        "  cy=round(cy,2)\n",
        "\n",
        "  #step4 (update x & y values)\n",
        "  x0=x0+cx\n",
        "  y0=y0+cy\n",
        "  x0=round(x0,2)\n",
        "  y0=round(y0,2)\n",
        "  \n",
        "  #step6 (checks to break the loop or not)\n",
        "  if i>epoches:\n",
        "    break\n",
        "  else:\n",
        "    continue"
      ],
      "execution_count": 5,
      "outputs": [
        {
          "output_type": "stream",
          "text": [
            "-2 8\n"
          ],
          "name": "stdout"
        }
      ]
    },
    {
      "cell_type": "code",
      "metadata": {
        "colab": {
          "base_uri": "https://localhost:8080/"
        },
        "id": "axKaVP_vNfwV",
        "outputId": "8ec0b640-f403-4932-c0f7-fc53813224a6"
      },
      "source": [
        "print('The minimum value obtained is, at x =',x0)\n",
        "print('The minimum value obtained is, at y =',y0)"
      ],
      "execution_count": 6,
      "outputs": [
        {
          "output_type": "stream",
          "text": [
            "The minimum value obtained is, at x = -0.02\n",
            "The minimum value obtained is, at y = 0.02\n"
          ],
          "name": "stdout"
        }
      ]
    }
  ]
}