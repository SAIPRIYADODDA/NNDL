{
  "nbformat": 4,
  "nbformat_minor": 0,
  "metadata": {
    "colab": {
      "name": "ASSIGNMENT4.ipynb",
      "provenance": [],
      "collapsed_sections": [],
      "mount_file_id": "1bAd8ZjGyZENvnWuaZuWFuNgA4bIRdx79",
      "authorship_tag": "ABX9TyM0gXHP8ALe8f3SN6uZVC4W",
      "include_colab_link": true
    },
    "kernelspec": {
      "name": "python3",
      "display_name": "Python 3"
    },
    "language_info": {
      "name": "python"
    }
  },
  "cells": [
    {
      "cell_type": "markdown",
      "metadata": {
        "id": "view-in-github",
        "colab_type": "text"
      },
      "source": [
        "<a href=\"https://colab.research.google.com/github/SAIPRIYADODDA/NNDL/blob/main/ASSIGNMENT4.ipynb\" target=\"_parent\"><img src=\"https://colab.research.google.com/assets/colab-badge.svg\" alt=\"Open In Colab\"/></a>"
      ]
    },
    {
      "cell_type": "code",
      "metadata": {
        "id": "MAQe0Z88JKt0"
      },
      "source": [
        "import pandas as pd\n",
        "import numpy as np\n",
        "import matplotlib.pyplot as plt\n",
        "from sklearn.preprocessing import minmax_scale\n",
        "from sklearn.model_selection import train_test_split\n",
        "import seaborn as sb\n",
        "from scipy import stats"
      ],
      "execution_count": 2,
      "outputs": []
    },
    {
      "cell_type": "code",
      "metadata": {
        "colab": {
          "base_uri": "https://localhost:8080/",
          "height": 212
        },
        "id": "QuHFdgXIzBQh",
        "outputId": "1feab6da-1d31-4ca2-bc2d-1558c102293e"
      },
      "source": [
        "df=pd.read_excel('/content/drive/MyDrive/unioncarbide.xls')\n",
        "df.head()"
      ],
      "execution_count": 5,
      "outputs": [
        {
          "output_type": "stream",
          "text": [
            "*** No CODEPAGE record, no encoding_override: will use 'ascii'\n"
          ],
          "name": "stdout"
        },
        {
          "output_type": "execute_result",
          "data": {
            "text/html": [
              "<div>\n",
              "<style scoped>\n",
              "    .dataframe tbody tr th:only-of-type {\n",
              "        vertical-align: middle;\n",
              "    }\n",
              "\n",
              "    .dataframe tbody tr th {\n",
              "        vertical-align: top;\n",
              "    }\n",
              "\n",
              "    .dataframe thead th {\n",
              "        text-align: right;\n",
              "    }\n",
              "</style>\n",
              "<table border=\"1\" class=\"dataframe\">\n",
              "  <thead>\n",
              "    <tr style=\"text-align: right;\">\n",
              "      <th></th>\n",
              "      <th>X</th>\n",
              "      <th>Y</th>\n",
              "    </tr>\n",
              "  </thead>\n",
              "  <tbody>\n",
              "    <tr>\n",
              "      <th>0</th>\n",
              "      <td>7.6</td>\n",
              "      <td>157</td>\n",
              "    </tr>\n",
              "    <tr>\n",
              "      <th>1</th>\n",
              "      <td>7.1</td>\n",
              "      <td>174</td>\n",
              "    </tr>\n",
              "    <tr>\n",
              "      <th>2</th>\n",
              "      <td>8.2</td>\n",
              "      <td>175</td>\n",
              "    </tr>\n",
              "    <tr>\n",
              "      <th>3</th>\n",
              "      <td>7.5</td>\n",
              "      <td>188</td>\n",
              "    </tr>\n",
              "    <tr>\n",
              "      <th>4</th>\n",
              "      <td>7.4</td>\n",
              "      <td>171</td>\n",
              "    </tr>\n",
              "  </tbody>\n",
              "</table>\n",
              "</div>"
            ],
            "text/plain": [
              "     X    Y\n",
              "0  7.6  157\n",
              "1  7.1  174\n",
              "2  8.2  175\n",
              "3  7.5  188\n",
              "4  7.4  171"
            ]
          },
          "metadata": {
            "tags": []
          },
          "execution_count": 5
        }
      ]
    },
    {
      "cell_type": "code",
      "metadata": {
        "colab": {
          "base_uri": "https://localhost:8080/",
          "height": 195
        },
        "id": "qR_RlWN0zBcM",
        "outputId": "802820ae-8846-4672-9cb1-60d2c11d4023"
      },
      "source": [
        "df.tail()"
      ],
      "execution_count": 6,
      "outputs": [
        {
          "output_type": "execute_result",
          "data": {
            "text/html": [
              "<div>\n",
              "<style scoped>\n",
              "    .dataframe tbody tr th:only-of-type {\n",
              "        vertical-align: middle;\n",
              "    }\n",
              "\n",
              "    .dataframe tbody tr th {\n",
              "        vertical-align: top;\n",
              "    }\n",
              "\n",
              "    .dataframe thead th {\n",
              "        text-align: right;\n",
              "    }\n",
              "</style>\n",
              "<table border=\"1\" class=\"dataframe\">\n",
              "  <thead>\n",
              "    <tr style=\"text-align: right;\">\n",
              "      <th></th>\n",
              "      <th>X</th>\n",
              "      <th>Y</th>\n",
              "    </tr>\n",
              "  </thead>\n",
              "  <tbody>\n",
              "    <tr>\n",
              "      <th>29</th>\n",
              "      <td>8.5</td>\n",
              "      <td>48</td>\n",
              "    </tr>\n",
              "    <tr>\n",
              "      <th>30</th>\n",
              "      <td>7.8</td>\n",
              "      <td>147</td>\n",
              "    </tr>\n",
              "    <tr>\n",
              "      <th>31</th>\n",
              "      <td>6.7</td>\n",
              "      <td>117</td>\n",
              "    </tr>\n",
              "    <tr>\n",
              "      <th>32</th>\n",
              "      <td>7.1</td>\n",
              "      <td>182</td>\n",
              "    </tr>\n",
              "    <tr>\n",
              "      <th>33</th>\n",
              "      <td>7.3</td>\n",
              "      <td>87</td>\n",
              "    </tr>\n",
              "  </tbody>\n",
              "</table>\n",
              "</div>"
            ],
            "text/plain": [
              "      X    Y\n",
              "29  8.5   48\n",
              "30  7.8  147\n",
              "31  6.7  117\n",
              "32  7.1  182\n",
              "33  7.3   87"
            ]
          },
          "metadata": {
            "tags": []
          },
          "execution_count": 6
        }
      ]
    },
    {
      "cell_type": "code",
      "metadata": {
        "colab": {
          "base_uri": "https://localhost:8080/"
        },
        "id": "IHzZZY8VAeFb",
        "outputId": "529cb6d8-3ca0-47db-b47b-1ed5ef554143"
      },
      "source": [
        "k= np.abs(stats.zscore(df))\n",
        "print(k)"
      ],
      "execution_count": 7,
      "outputs": [
        {
          "output_type": "stream",
          "text": [
            "[[0.12500664 0.25847285]\n",
            " [1.13696519 0.56778404]\n",
            " [1.08934361 0.58597881]\n",
            " [0.32739835 0.8225109 ]\n",
            " [0.52979006 0.51319971]\n",
            " [0.27977677 0.00374598]\n",
            " [0.73218177 1.3501594 ]\n",
            " [0.68456019 0.85890045]\n",
            " [1.13696519 0.01444879]\n",
            " [0.32739835 0.85890045]\n",
            " [0.8869519  1.31376985]\n",
            " [1.3393569  1.02265344]\n",
            " [0.73218177 2.16892432]\n",
            " [0.27977677 0.6876555 ]\n",
            " [0.73218177 0.39653909]\n",
            " [0.68456019 1.12433013]\n",
            " [1.69651874 1.10613535]\n",
            " [1.13696519 1.22279597]\n",
            " [1.08934361 1.07723776]\n",
            " [0.48216848 0.22208329]\n",
            " [0.12500664 0.25847285]\n",
            " [2.30369386 0.07652509]\n",
            " [0.93457348 0.17820178]\n",
            " [0.48216848 1.63378385]\n",
            " [0.8869519  1.57919952]\n",
            " [0.07738507 0.5420973 ]\n",
            " [1.49412703 1.96128982]\n",
            " [0.52979006 0.32375998]\n",
            " [0.73218177 1.21530401]\n",
            " [1.69651874 1.72475773]\n",
            " [0.27977677 0.07652509]\n",
            " [1.94653203 0.46931819]\n",
            " [1.13696519 0.71334225]\n",
            " [0.73218177 1.01516147]]\n"
          ],
          "name": "stdout"
        }
      ]
    },
    {
      "cell_type": "code",
      "metadata": {
        "colab": {
          "base_uri": "https://localhost:8080/",
          "height": 296
        },
        "id": "18lcEf2mAyy8",
        "outputId": "88993f89-4b29-4056-c88f-4c0a46f1f451"
      },
      "source": [
        "sb.boxplot(x=df['X'])"
      ],
      "execution_count": 8,
      "outputs": [
        {
          "output_type": "execute_result",
          "data": {
            "text/plain": [
              "<matplotlib.axes._subplots.AxesSubplot at 0x7f00d8db2e50>"
            ]
          },
          "metadata": {
            "tags": []
          },
          "execution_count": 8
        },
        {
          "output_type": "display_data",
          "data": {
            "image/png": "[encoded data removed]",
            "text/plain": [
              "<Figure size 432x288 with 1 Axes>"
            ]
          },
          "metadata": {
            "tags": [],
            "needs_background": "light"
          }
        }
      ]
    },
    {
      "cell_type": "code",
      "metadata": {
        "colab": {
          "base_uri": "https://localhost:8080/",
          "height": 269
        },
        "id": "NYlXpfMXA9N-",
        "outputId": "94353d5c-bb25-4699-eba2-2f3bc513bb02"
      },
      "source": [
        "sb.boxplot(y=df['Y'])"
      ],
      "execution_count": 9,
      "outputs": [
        {
          "output_type": "execute_result",
          "data": {
            "text/plain": [
              "<matplotlib.axes._subplots.AxesSubplot at 0x7f00d8cf45d0>"
            ]
          },
          "metadata": {
            "tags": []
          },
          "execution_count": 9
        },
        {
          "output_type": "display_data",
          "data": {
            "image/png": "[encoded data removed]",
            "text/plain": [
              "<Figure size 432x288 with 1 Axes>"
            ]
          },
          "metadata": {
            "tags": [],
            "needs_background": "light"
          }
        }
      ]
    },
    {
      "cell_type": "code",
      "metadata": {
        "colab": {
          "base_uri": "https://localhost:8080/",
          "height": 195
        },
        "id": "4QKSoBEsBaZf",
        "outputId": "0384cd78-3be9-452c-a57d-74bf3581320f"
      },
      "source": [
        "p_df = df[(k < 3).all(axis=1)]\n",
        "p_df.head()"
      ],
      "execution_count": 10,
      "outputs": [
        {
          "output_type": "execute_result",
          "data": {
            "text/html": [
              "<div>\n",
              "<style scoped>\n",
              "    .dataframe tbody tr th:only-of-type {\n",
              "        vertical-align: middle;\n",
              "    }\n",
              "\n",
              "    .dataframe tbody tr th {\n",
              "        vertical-align: top;\n",
              "    }\n",
              "\n",
              "    .dataframe thead th {\n",
              "        text-align: right;\n",
              "    }\n",
              "</style>\n",
              "<table border=\"1\" class=\"dataframe\">\n",
              "  <thead>\n",
              "    <tr style=\"text-align: right;\">\n",
              "      <th></th>\n",
              "      <th>X</th>\n",
              "      <th>Y</th>\n",
              "    </tr>\n",
              "  </thead>\n",
              "  <tbody>\n",
              "    <tr>\n",
              "      <th>0</th>\n",
              "      <td>7.6</td>\n",
              "      <td>157</td>\n",
              "    </tr>\n",
              "    <tr>\n",
              "      <th>1</th>\n",
              "      <td>7.1</td>\n",
              "      <td>174</td>\n",
              "    </tr>\n",
              "    <tr>\n",
              "      <th>2</th>\n",
              "      <td>8.2</td>\n",
              "      <td>175</td>\n",
              "    </tr>\n",
              "    <tr>\n",
              "      <th>3</th>\n",
              "      <td>7.5</td>\n",
              "      <td>188</td>\n",
              "    </tr>\n",
              "    <tr>\n",
              "      <th>4</th>\n",
              "      <td>7.4</td>\n",
              "      <td>171</td>\n",
              "    </tr>\n",
              "  </tbody>\n",
              "</table>\n",
              "</div>"
            ],
            "text/plain": [
              "     X    Y\n",
              "0  7.6  157\n",
              "1  7.1  174\n",
              "2  8.2  175\n",
              "3  7.5  188\n",
              "4  7.4  171"
            ]
          },
          "metadata": {
            "tags": []
          },
          "execution_count": 10
        }
      ]
    },
    {
      "cell_type": "code",
      "metadata": {
        "colab": {
          "base_uri": "https://localhost:8080/",
          "height": 195
        },
        "id": "lPLoIS2BCnJF",
        "outputId": "cf6e6605-45f2-45b1-d4b3-308f889d53f3"
      },
      "source": [
        "for i in df:\n",
        "    q = df[i].quantile(0.99)\n",
        "    df[df[i] < q]\n",
        "    q_low = df[i].quantile(0.01)\n",
        "    q_hi  = df[i].quantile(0.99)\n",
        "\n",
        "    df_filtered = df[(df[i] < q_hi) & (df[i] > q_low)]\n",
        "df_filtered.head()"
      ],
      "execution_count": 11,
      "outputs": [
        {
          "output_type": "execute_result",
          "data": {
            "text/html": [
              "<div>\n",
              "<style scoped>\n",
              "    .dataframe tbody tr th:only-of-type {\n",
              "        vertical-align: middle;\n",
              "    }\n",
              "\n",
              "    .dataframe tbody tr th {\n",
              "        vertical-align: top;\n",
              "    }\n",
              "\n",
              "    .dataframe thead th {\n",
              "        text-align: right;\n",
              "    }\n",
              "</style>\n",
              "<table border=\"1\" class=\"dataframe\">\n",
              "  <thead>\n",
              "    <tr style=\"text-align: right;\">\n",
              "      <th></th>\n",
              "      <th>X</th>\n",
              "      <th>Y</th>\n",
              "    </tr>\n",
              "  </thead>\n",
              "  <tbody>\n",
              "    <tr>\n",
              "      <th>0</th>\n",
              "      <td>7.6</td>\n",
              "      <td>157</td>\n",
              "    </tr>\n",
              "    <tr>\n",
              "      <th>1</th>\n",
              "      <td>7.1</td>\n",
              "      <td>174</td>\n",
              "    </tr>\n",
              "    <tr>\n",
              "      <th>2</th>\n",
              "      <td>8.2</td>\n",
              "      <td>175</td>\n",
              "    </tr>\n",
              "    <tr>\n",
              "      <th>3</th>\n",
              "      <td>7.5</td>\n",
              "      <td>188</td>\n",
              "    </tr>\n",
              "    <tr>\n",
              "      <th>4</th>\n",
              "      <td>7.4</td>\n",
              "      <td>171</td>\n",
              "    </tr>\n",
              "  </tbody>\n",
              "</table>\n",
              "</div>"
            ],
            "text/plain": [
              "     X    Y\n",
              "0  7.6  157\n",
              "1  7.1  174\n",
              "2  8.2  175\n",
              "3  7.5  188\n",
              "4  7.4  171"
            ]
          },
          "metadata": {
            "tags": []
          },
          "execution_count": 11
        }
      ]
    },
    {
      "cell_type": "code",
      "metadata": {
        "colab": {
          "base_uri": "https://localhost:8080/"
        },
        "id": "Um8Hb63LD54h",
        "outputId": "d7ec78f1-1488-4750-b4de-2eefa296ffc8"
      },
      "source": [
        "data = df_filtered\n",
        "print(len(data))\n",
        "print(len(df_filtered))\n",
        "if(len(data) == len(df_filtered)):\n",
        "    print('No outliners')"
      ],
      "execution_count": 12,
      "outputs": [
        {
          "output_type": "stream",
          "text": [
            "32\n",
            "32\n",
            "No outliners\n"
          ],
          "name": "stdout"
        }
      ]
    },
    {
      "cell_type": "code",
      "metadata": {
        "colab": {
          "base_uri": "https://localhost:8080/",
          "height": 195
        },
        "id": "QoUxt6EFEDZc",
        "outputId": "afc80017-020c-4a22-9015-c9f52a4fd738"
      },
      "source": [
        "new_data=df.copy()\n",
        "new_data = (new_data - new_data.min())/(new_data.max() - new_data.min())\n",
        "new_data.head()"
      ],
      "execution_count": 13,
      "outputs": [
        {
          "output_type": "execute_result",
          "data": {
            "text/html": [
              "<div>\n",
              "<style scoped>\n",
              "    .dataframe tbody tr th:only-of-type {\n",
              "        vertical-align: middle;\n",
              "    }\n",
              "\n",
              "    .dataframe tbody tr th {\n",
              "        vertical-align: top;\n",
              "    }\n",
              "\n",
              "    .dataframe thead th {\n",
              "        text-align: right;\n",
              "    }\n",
              "</style>\n",
              "<table border=\"1\" class=\"dataframe\">\n",
              "  <thead>\n",
              "    <tr style=\"text-align: right;\">\n",
              "      <th></th>\n",
              "      <th>X</th>\n",
              "      <th>Y</th>\n",
              "    </tr>\n",
              "  </thead>\n",
              "  <tbody>\n",
              "    <tr>\n",
              "      <th>0</th>\n",
              "      <td>0.428571</td>\n",
              "      <td>0.537445</td>\n",
              "    </tr>\n",
              "    <tr>\n",
              "      <th>1</th>\n",
              "      <td>0.190476</td>\n",
              "      <td>0.612335</td>\n",
              "    </tr>\n",
              "    <tr>\n",
              "      <th>2</th>\n",
              "      <td>0.714286</td>\n",
              "      <td>0.616740</td>\n",
              "    </tr>\n",
              "    <tr>\n",
              "      <th>3</th>\n",
              "      <td>0.380952</td>\n",
              "      <td>0.674009</td>\n",
              "    </tr>\n",
              "    <tr>\n",
              "      <th>4</th>\n",
              "      <td>0.333333</td>\n",
              "      <td>0.599119</td>\n",
              "    </tr>\n",
              "  </tbody>\n",
              "</table>\n",
              "</div>"
            ],
            "text/plain": [
              "          X         Y\n",
              "0  0.428571  0.537445\n",
              "1  0.190476  0.612335\n",
              "2  0.714286  0.616740\n",
              "3  0.380952  0.674009\n",
              "4  0.333333  0.599119"
            ]
          },
          "metadata": {
            "tags": []
          },
          "execution_count": 13
        }
      ]
    },
    {
      "cell_type": "code",
      "metadata": {
        "colab": {
          "base_uri": "https://localhost:8080/",
          "height": 212
        },
        "id": "rZewhvTdF_Eg",
        "outputId": "5b0da855-cfb7-48e5-867b-e590d988d456"
      },
      "source": [
        "train_data,test_data = train_test_split(new_data,train_size=0.9)\n",
        "print(len(train_data))\n",
        "train_data.head()"
      ],
      "execution_count": 14,
      "outputs": [
        {
          "output_type": "stream",
          "text": [
            "30\n"
          ],
          "name": "stdout"
        },
        {
          "output_type": "execute_result",
          "data": {
            "text/html": [
              "<div>\n",
              "<style scoped>\n",
              "    .dataframe tbody tr th:only-of-type {\n",
              "        vertical-align: middle;\n",
              "    }\n",
              "\n",
              "    .dataframe tbody tr th {\n",
              "        vertical-align: top;\n",
              "    }\n",
              "\n",
              "    .dataframe thead th {\n",
              "        text-align: right;\n",
              "    }\n",
              "</style>\n",
              "<table border=\"1\" class=\"dataframe\">\n",
              "  <thead>\n",
              "    <tr style=\"text-align: right;\">\n",
              "      <th></th>\n",
              "      <th>X</th>\n",
              "      <th>Y</th>\n",
              "    </tr>\n",
              "  </thead>\n",
              "  <tbody>\n",
              "    <tr>\n",
              "      <th>18</th>\n",
              "      <td>0.714286</td>\n",
              "      <td>0.735683</td>\n",
              "    </tr>\n",
              "    <tr>\n",
              "      <th>17</th>\n",
              "      <td>0.190476</td>\n",
              "      <td>0.770925</td>\n",
              "    </tr>\n",
              "    <tr>\n",
              "      <th>10</th>\n",
              "      <td>0.666667</td>\n",
              "      <td>0.792952</td>\n",
              "    </tr>\n",
              "    <tr>\n",
              "      <th>30</th>\n",
              "      <td>0.523810</td>\n",
              "      <td>0.493392</td>\n",
              "    </tr>\n",
              "    <tr>\n",
              "      <th>7</th>\n",
              "      <td>0.619048</td>\n",
              "      <td>0.682819</td>\n",
              "    </tr>\n",
              "  </tbody>\n",
              "</table>\n",
              "</div>"
            ],
            "text/plain": [
              "           X         Y\n",
              "18  0.714286  0.735683\n",
              "17  0.190476  0.770925\n",
              "10  0.666667  0.792952\n",
              "30  0.523810  0.493392\n",
              "7   0.619048  0.682819"
            ]
          },
          "metadata": {
            "tags": []
          },
          "execution_count": 14
        }
      ]
    },
    {
      "cell_type": "code",
      "metadata": {
        "id": "3ygKaLrbGTey"
      },
      "source": [
        "x_val=np.array(train_data['X'])\n",
        "y_val=np.array(train_data['Y'])"
      ],
      "execution_count": 15,
      "outputs": []
    },
    {
      "cell_type": "markdown",
      "metadata": {
        "id": "JeZKqtJ_cuHe"
      },
      "source": [
        ""
      ]
    },
    {
      "cell_type": "code",
      "metadata": {
        "colab": {
          "base_uri": "https://localhost:8080/"
        },
        "id": "81K0FgqbcqtI",
        "outputId": "81a4d756-c072-400c-818d-6ef86e2fa611"
      },
      "source": [
        "from sympy import Symbol, Derivative, symbols\n",
        "m= Symbol('m')\n",
        "c= Symbol('c')\n",
        "function = '0.5*(y-m*x-c)**2'\n",
        "partialderiv= Derivative(function, m)\n",
        "dfm = partialderiv.doit()\n",
        "partialderiv= Derivative(function, c)\n",
        "dfc = partialderiv.doit()\n",
        "\n",
        "print(f'first order derivatives of given function are de/dm = {dfm} ,de/dc = {dfc}')\n",
        "err = []\n",
        "#step 1 initialise values \n",
        "m1 = -1.0 \n",
        "c1 = 1.0  #variable x, y\n",
        "epoches = 100  \n",
        "learning_rate = 0.1  #learning rate\n",
        "for i in range(0,epoches):\n",
        "    er =0\n",
        "    for j in range(0,len(x_val)):\n",
        "        er +=  ((y_val[j] - (m1 * x_val[j]) - c1))**2\n",
        "        #step 2 substitute x ,y in first order derivatives df/dx, df/dy\n",
        "        m = symbols('m')\n",
        "        c = symbols('c')\n",
        "        x = symbols('x')\n",
        "        y = symbols('y')\n",
        "        dfmv = dfm.subs(m, m1) \n",
        "        dfmv = dfmv.subs(c, c1) \n",
        "        dfmv = dfmv.subs(x, x_val[j]) \n",
        "        dfmv = dfmv.subs(y, y_val[j]) \n",
        "        dfmv = round(dfmv,2)\n",
        "        dfcv = dfc.subs(c, c1) \n",
        "        dfcv = dfcv.subs(m, m1) \n",
        "        dfcv = dfcv.subs(x, x_val[j]) \n",
        "        dfcv = dfcv.subs(y, y_val[j]) \n",
        "        dfcv = round(dfcv,2)\n",
        "        #step3 find change in x , y\n",
        "        dm = (-1.0)*learning_rate*dfmv\n",
        "        dc = (-1.0)*learning_rate*dfcv\n",
        "        #step4 update variable \n",
        "        m1 = m1 + dm\n",
        "        m1 = round(m1, 2) \n",
        "        c1 = c1 + dc\n",
        "        c1 = round(c1, 2)\n",
        "\n",
        "        er = (1/(2*len(train_data['X'])))*(er)\n",
        "        err.append(er)\n",
        "    #step5 increment iterations \n",
        "    #step6 break loop if iterations exceed no of epoches\n",
        "#step7 print variable x1, y1\n",
        "print(m1, c1)\n",
        "print(f'minimum value obtained at m = {m1} ,c ={c1} for given function')\n"
      ],
      "execution_count": 17,
      "outputs": [
        {
          "output_type": "stream",
          "text": [
            "first order derivatives of given function are de/dm = -1.0*x*(-c - m*x + y) ,de/dc = 1.0*c + 1.0*m*x - 1.0*y\n",
            "-0.40 0.59\n",
            "minimum value obtained at m = -0.40 ,c =0.59 for given function\n"
          ],
          "name": "stdout"
        }
      ]
    },
    {
      "cell_type": "code",
      "metadata": {
        "colab": {
          "base_uri": "https://localhost:8080/"
        },
        "id": "JkEjpo0jfjij",
        "outputId": "adf88538-f765-48e1-a842-9c490e226af7"
      },
      "source": [
        "from sklearn.metrics import mean_squared_error\n",
        "\n",
        "train_data_pred =  m1*train_data['X'] + c1\n",
        "\n",
        "train_mse = mean_squared_error(train_data['Y'],train_data_pred)\n",
        "train_mse"
      ],
      "execution_count": 37,
      "outputs": [
        {
          "output_type": "execute_result",
          "data": {
            "text/plain": [
              "0.060549009130913274"
            ]
          },
          "metadata": {
            "tags": []
          },
          "execution_count": 37
        }
      ]
    },
    {
      "cell_type": "code",
      "metadata": {
        "colab": {
          "base_uri": "https://localhost:8080/",
          "height": 298
        },
        "id": "scOoI-AlgKCJ",
        "outputId": "126d84cd-286d-474a-9156-5c731de5517b"
      },
      "source": [
        "plt.plot(np.array(train_data['X']),np.array(train_data_pred),color='blue')\n",
        "plt.scatter(np.array(train_data['X']),np.array(train_data['Y']),marker='+',color='deeppink')\n",
        "plt.title('predicted data vs actual data')"
      ],
      "execution_count": 30,
      "outputs": [
        {
          "output_type": "execute_result",
          "data": {
            "text/plain": [
              "Text(0.5, 1.0, 'predicted data vs actual data')"
            ]
          },
          "metadata": {
            "tags": []
          },
          "execution_count": 30
        },
        {
          "output_type": "display_data",
          "data": {
            "image/png": "[encoded data removed]",
            "text/plain": [
              "<Figure size 432x288 with 1 Axes>"
            ]
          },
          "metadata": {
            "tags": [],
            "needs_background": "light"
          }
        }
      ]
    },
    {
      "cell_type": "code",
      "metadata": {
        "colab": {
          "base_uri": "https://localhost:8080/",
          "height": 295
        },
        "id": "88c28ST4h9gc",
        "outputId": "6ecbcc7c-94b8-435c-b534-b610a20a4d44"
      },
      "source": [
        "iters = np.arange(epoches*len(x_val))\n",
        "plt.plot(iters,err,'cyan')\n",
        "plt.title(\"Error graph for training data\")\n",
        "plt.xlabel(\"iteration count\")\n",
        "plt.ylabel(\"error rate \")\n",
        "plt.grid()"
      ],
      "execution_count": 34,
      "outputs": [
        {
          "output_type": "display_data",
          "data": {
            "image/png": "[encoded data removed]",
            "text/plain": [
              "<Figure size 432x288 with 1 Axes>"
            ]
          },
          "metadata": {
            "tags": [],
            "needs_background": "light"
          }
        }
      ]
    },
    {
      "cell_type": "code",
      "metadata": {
        "colab": {
          "base_uri": "https://localhost:8080/"
        },
        "id": "DuqGA2zTiunP",
        "outputId": "6dd5bf32-dcf9-42be-d304-550c08f8bbb4"
      },
      "source": [
        "test_data_pred = m1 *test_data['X'] + c1\n",
        "test_mse = mean_squared_error(test_data['Y'],test_data_pred)\n",
        "test_mse"
      ],
      "execution_count": 36,
      "outputs": [
        {
          "output_type": "execute_result",
          "data": {
            "text/plain": [
              "0.027427913004210686"
            ]
          },
          "metadata": {
            "tags": []
          },
          "execution_count": 36
        }
      ]
    },
    {
      "cell_type": "code",
      "metadata": {
        "colab": {
          "base_uri": "https://localhost:8080/",
          "height": 265
        },
        "id": "u4vDGBr_i9ak",
        "outputId": "dabf7a1d-db24-40fb-c23e-a217112230fb"
      },
      "source": [
        "plt.scatter(test_data['X'],test_data['Y'],marker='+',color='blue')\n",
        "plt.plot(test_data['X'],test_data_pred,color='deeppink')\n",
        "plt.grid()"
      ],
      "execution_count": 39,
      "outputs": [
        {
          "output_type": "display_data",
          "data": {
            "image/png": "[encoded data removed]",
            "text/plain": [
              "<Figure size 432x288 with 1 Axes>"
            ]
          },
          "metadata": {
            "tags": [],
            "needs_background": "light"
          }
        }
      ]
    },
    {
      "cell_type": "code",
      "metadata": {
        "id": "euYps1ajjeSk"
      },
      "source": [
        "x_min = df['X'].min()\n",
        "x_max = df['X'].max()\n",
        "y_min = df['Y'].min()\n",
        "y_max = df['Y'].max()"
      ],
      "execution_count": 41,
      "outputs": []
    },
    {
      "cell_type": "code",
      "metadata": {
        "colab": {
          "base_uri": "https://localhost:8080/"
        },
        "id": "qqIfciXjjnWu",
        "outputId": "d01be9a8-d4db-43b9-8828-1af9ef60c874"
      },
      "source": [
        "x =x1 = float(input(\"enter pH value of well water :\"))\n",
        "x = (x - x_min)/(x_max - x_min)\n",
        "y = m1*x + c1\n",
        "y = y*(y_max - y_min) + y_min\n",
        "print(f\"bicarbonates of well water based on its pH {x1} is : {y}\")"
      ],
      "execution_count": 45,
      "outputs": [
        {
          "output_type": "stream",
          "text": [
            "enter pH value of well water :10\n",
            "bicarbonates of well water based on its pH 10.0 is : 26.2436523437500\n"
          ],
          "name": "stdout"
        }
      ]
    }
  ]
}